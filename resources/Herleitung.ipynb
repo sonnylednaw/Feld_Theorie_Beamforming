{
 "cells": [
  {
   "cell_type": "markdown",
   "metadata": {
    "collapsed": false
   },
   "source": [
    "### Herleitung\n",
    "Herleitung aus den Maxwellgleichungen\n",
    "* Skalar- und Vektorpotenzial\n",
    "* elektrisches und magnetisches Feld bzw. $\\vec B$-Feld\n",
    "* Poyntning-Vektor\n",
    "* Strahlungsleistung"
   ]
  },
  {
   "cell_type": "markdown",
   "metadata": {
    "collapsed": false
   },
   "source": [
    "Für die Bestimmung des elektromagnetischen Feldes einer Antenne, soll nachfolgend der Zusammenhang zwischen des Vektorpotentials $ \\vec A\\ $ und den Maxwell Gleichungen hergeleitet werden.\n",
    "Das bedeutet, dass sobald $ \\vec A $ bekannt ist, das magnetische Feld $ \\vec B = \\mu \\vec H $ und das elektrische Feld $ \\vec D = \\epsilon \\vec E $ bestimmt werden können. Wie dabei aus dem Vektorpotential $ \\vec A $ die Felder bestimmt werden wird nachfolgend dargestellt.\n",
    "\n",
    "Hinweis:\n",
    "\n",
    "Es wird die zeitabhängigkeit für die Herleitung berücksichtigt. Der statische Fall kann dann aus dem dynamischen Fall abgeleitet werden.\n",
    "\n",
    "\n",
    "Somit gelten für die Felder: Beispiel am  $ \\vec B(\\vec r, t) $ Feld\n",
    "\n",
    "$ \\vec B(\\vec r, t) = \\vec B(\\vec r) e^{j\\omega t} $ \n",
    "\n",
    "und damit\n",
    "\n",
    "$ \\frac{\\partial \\vec B(\\vec r, t)}{\\partial t} = j\\omega  \\vec B(\\vec r, t) $ "
   ]
  },
  {
   "cell_type": "markdown",
   "metadata": {
    "collapsed": false
   },
   "source": [
    "Durch das Vektorpotential $\\vec A$ kann ein elektromagnetisches Feld bestimmt werden, welches durch einen gegebenen harmonischen Strom  $ \\vec j $ generiert wird.\n",
    "Für den magnetischen Fluss gilt dabei immer Quellenfreiheit: $\\nabla  \\vec B = 0 $ "
   ]
  },
  {
   "cell_type": "markdown",
   "metadata": {
    "collapsed": false
   },
   "source": [
    "#### Abschnitt 1\n",
    "\n",
    "Da Wirbelfelder immer quellenfrei sind gilt für ein beliebiges Vektorfeld $ \\vec A $:\n",
    "\n",
    "$$\n",
    "              \\nabla (\\nabla \\times \\vec A) = 0\n",
    "$$\n",
    "\n",
    "Daher kann $ \\nabla \\vec B = 0 $ auch geschrieben werden als $\\nabla (\\nabla \\times \\vec A) = 0$ und somit ist:\n",
    "\n",
    "$$ \\vec B = \\mu \\vec H_A =  \\nabla \\times \\vec A   \\quad \\text{(Gleichung 1)}$$               \n",
    "($ \\vec A $ ist das Vektorpotential)\n",
    "\n",
    "Somit lässt sich das magnetische Feld schreiben als:  \n",
    "\n",
    "$$ \\vec H_A = \\frac{1}{\\mu} \\nabla \\times \\vec A $$"
   ]
  },
  {
   "cell_type": "markdown",
   "metadata": {
    "collapsed": false
   },
   "source": [
    "#### Abschnitt 2\n",
    "Der neue Ausdruck für $\\vec H_A$ kann in die Maxwellgleichung für die Rotation des elektrischen Feldes eingesetzt werden:\n",
    "\n",
    "$\\nabla \\times \\vec E = - \\frac{\\partial \\vec B}{\\partial t}$ mit $\\vec B = \\mu \\vec H_A$ ergibt sich dann:\n",
    "\n",
    "$$\\nabla \\times \\vec E_A = -j\\omega\\mu\\vec H_A$$\n",
    "\n",
    "mit $\\mu \\vec H_A = \\nabla \\times \\vec A$ gibt der obige Ausdruck:\n",
    "\n",
    "$$\\nabla \\times \\vec E_A = -j\\omega (\\nabla \\times \\vec A)$$\n",
    "\n",
    "$$\\nabla \\times \\vec E_A + j\\omega (\\nabla \\times \\vec A) =0$$\n",
    "\n",
    "$$\\nabla \\times (\\vec E_A + j\\omega \\vec A) =0$$\n",
    "\n",
    "mit der Identität des elektrischen Potentials $\\nabla \\times (-\\nabla \\Phi_E) = 0$ kann die rechte Seite erweitert werden mit $\\nabla \\times (-\\nabla \\Phi_E)$:\n",
    "\n",
    "$$\\nabla \\times (\\vec E_A + j\\omega \\vec A) = \\nabla \\times (-\\nabla \\Phi_E)$$\n",
    "\n",
    "Der Ausdruck lässt sich vereinfachen zu:\n",
    "\n",
    "$$\\vec E_A + j\\omega \\vec A =-\\nabla \\Phi_E$$\n",
    "\n",
    "Somit lässt sich das Elektrische Feld $\\vec E_A$ durch das elektrische skalare Potential $\\Phi_E$ und dem Vektorpotential $\\vec A$:\n",
    "\n",
    "$$\\vec E_A =-\\nabla \\Phi_E - j\\omega \\vec A$$\n"
   ]
  },
  {
   "cell_type": "markdown",
   "metadata": {
    "collapsed": false
   },
   "source": [
    "#### Abschnitt 3\n",
    "\n",
    "Wegen der Maxwell Gleichung für die Rotation des magnetischen Feldes: \n",
    "    $$\n",
    "        \\nabla \\times \\vec H = \\frac{\\partial \\vec D}{\\partial t} + \\vec j\n",
    "    $$ \n",
    "wird nun auf die hergeleitete Gleichung 1 $$ \\vec B = \\mu \\vec H_A = \\nabla \\times \\vec A $$ die Rotation auf beiden Seiten angewendet:\n",
    "$$\n",
    "       \\mu \\nabla \\times \\vec H_A = \\nabla \\times \\nabla \\times \\vec A\n",
    "$$\n",
    "durch die Vektoridentität $ \\nabla \\times (\\nabla \\times \\vec F) = \\nabla (\\nabla \\vec F) - (\\nabla \\nabla) \\vec F$ lässt sich die obige Gleichung schreiben als:\n",
    "$$\n",
    "     \\mu \\nabla \\times \\vec H_A = \\nabla (\\nabla \\vec A) - \\nabla \\nabla \\vec A\n",
    "$$\n",
    "$$\n",
    "     \\mu \\nabla \\times \\vec H_A = \\nabla (\\nabla \\vec A) -\\nabla^2 \\vec A\n",
    "$$\n",
    "\n",
    "Für die Rotation des Magnetfeldes $ \\vec H_A $ gilt die Maxwell Gleichung:\n",
    "$$\n",
    "      \\nabla \\times \\vec H_A = \\frac{\\partial \\vec D_A}{\\partial t} + \\vec j = \\epsilon  \\frac{\\partial \\vec E_A}{\\partial t} + \\vec j = \\vec j + j\\omega \\epsilon \\vec E_A\n",
    "$$\n",
    "Jetzt kann die Maxwell Gleichung $ \\nabla \\times \\vec H_A  = \\vec j + j\\omega \\epsilon \\vec E_A $ in den obigen Ausdruck $\\mu \\nabla \\times \\vec H_A = \\nabla (\\nabla \\vec A) -\\nabla^2 \\vec A$ substituiert werden:\n",
    "$$\n",
    "    \\mu (\\vec j + j\\omega \\epsilon \\vec E_A) = \\nabla (\\nabla \\vec A) -\\nabla^2 \\vec A\n",
    "$$\n",
    "Für das elektrische Feld $ \\vec E_A $ kann in diese Gleichung jetzt der zuvor hergeleitete Ausdruck $ \\vec E_A = -\\nabla \\Phi_E -j\\omega \\vec A $ (Abschnitt 2) eingesetzt werden:\n",
    "$$\n",
    "     \\mu \\vec j + j\\omega \\epsilon \\mu  (-\\nabla \\Phi_E -j\\omega \\vec A) = \\nabla (\\nabla \\vec A) -\\nabla^2 \\vec A\n",
    "$$\n",
    "$$\n",
    "      \\mu \\vec j - j\\omega \\epsilon \\mu \\nabla \\Phi_E + \\omega^2 \\epsilon \\mu \\vec A = \\nabla (\\nabla \\vec A) -\\nabla^2 \\vec A\n",
    "$$\n",
    "mit $ k^2 = \\omega^2 \\epsilon \\mu$ ergibt sich (mit der Wellenzahl $k=\\frac{\\omega}{c}$ und der Lichtgeschwindigkeit $c = \\frac{1}{\\sqrt{\\epsilon \\mu}}$)\n",
    "$$\n",
    "      \\mu \\vec j - j\\omega \\epsilon \\mu \\nabla \\Phi_E +k^2 \\vec A = \\nabla (\\nabla \\vec A) -\\nabla^2 \\vec A\n",
    "$$\n",
    "Dieser Ausdruck lässt sich umschreiben zu:\n",
    "$$\n",
    "          \\nabla^2 \\vec A + k^2 \\vec A = - \\mu \\vec j + \\nabla (\\nabla \\vec A) + j\\omega \\epsilon \\mu \\nabla \\Phi_E \\quad \\text{(Gleichung 2)}\n",
    "$$\n"
   ]
  },
  {
   "cell_type": "markdown",
   "metadata": {
    "collapsed": false
   },
   "source": [
    "\n"
   ]
  },
  {
   "cell_type": "markdown",
   "metadata": {
    "collapsed": false
   },
   "source": [
    "#### Abschnitt 4\n",
    "Ein elektromagnetisches Feld besteht aus einem magnetischen Feld und einem elektrischen Feld, diese können mit einem elektrischen skalaren Potential und einem Vektorpotential beschrieben werden. Dabei ist die Beschreibung der Potentiale nicht eindeutig, d.h. es gibt eine Eichfreiheit.\n",
    "\n",
    "Diese wird an dieser Stelle ausgenutzt, um die Gleichung zu vereinfachen. Es wird die LorentzEichung verwendet.\n",
    "\n",
    "Die Lorentz Eichung bei elektrodynamischen Feldern besagt, dass bei elektrodynamischen Potentialen die Summe der ersten zeitlichen Ableitung des elektrischen skalaren Potentials $ \\Phi(\\vec r, t)$ und der Divergenz des Vektorpotentials $ \\vec A$ gleich Null gibt:\n",
    "$$\n",
    "      \\nabla \\vec A + \\frac{\\partial}{\\partial t} \\Phi_E = 0\n",
    "$$\n",
    "$$\n",
    "      \\nabla \\vec A = -j \\omega \\epsilon \\mu \\Phi_E\n",
    "$$\n",
    "$$\n",
    "      \\Phi_E = -\\frac{1}{j\\omega \\epsilon \\mu} \\nabla \\vec A\n",
    "$$\n",
    "\n",
    "<!-- https://de.wikipedia.org/wiki/Lorenz-Eichung -->"
   ]
  },
  {
   "cell_type": "markdown",
   "metadata": {
    "collapsed": false
   },
   "source": [
    "#### Abschnitt 5\n",
    "\n",
    "Der letzte Ausdruck aus Abschnitt 3: (Gleichung 2)\n",
    "\n",
    "$$\n",
    "               \\nabla^2 \\vec A + k^2 \\vec A = - \\mu \\vec j + \\nabla (\\nabla \\vec A) + j\\omega \\epsilon \\mu \\nabla \\Phi_E \n",
    "\n",
    "$$\n",
    "lässt sich durch die Lorentz Eichung vereinfachen, indem für $ \\nabla \\vec A = -j \\omega \\epsilon \\mu \\Phi_E $ und für $ \\Phi_E = - \\frac {1}{j \\omega \\epsilon \\mu} \\nabla \\vec A $ eingesetzt werden. Somit ergibt sich:\n",
    "$$\n",
    "               \\nabla^2 \\vec A + k^2 \\vec A = - \\mu \\vec j + \\nabla ( -j \\omega \\epsilon \\mu \\Phi_E) + j\\omega \\epsilon \\mu \\nabla (- \\frac {1}{j \\omega \\epsilon \\mu} \\nabla \\vec A)\n",
    "$$\n",
    "$$\n",
    "               \\nabla^2 \\vec A + k^2 \\vec A = - \\mu \\vec j + \\nabla ( -j \\omega \\epsilon \\mu \\Phi_E) - \\nabla \\nabla \\vec A\n",
    "$$\n",
    "mit nochmaligem einsetzen von  $ \\Phi_E = - \\frac {1}{j \\omega \\epsilon \\mu} \\nabla \\vec A $ ergibt sich:\n",
    "$$\n",
    "               \\nabla^2 \\vec A + k^2 \\vec A = - \\mu \\vec j + \\nabla ( -j \\omega \\epsilon \\mu (- \\frac {1}{j \\omega \\epsilon \\mu} \\nabla \\vec A)) - \\nabla \\nabla \\vec A\n",
    "$$\n",
    "$$\n",
    "               \\nabla^2 \\vec A + k^2 \\vec A = - \\mu \\vec j + \\nabla \\nabla \\vec A - \\nabla \\nabla \\vec A\n",
    "$$\n",
    "$$\n",
    "              \\nabla^2 \\vec A + k^2 \\vec A = - \\mu \\vec j \\quad \\text{(Gleichung 3)}\n",
    "$$\n",
    "\n",
    "Dieser Ausdruck entspricht der inhomogenen Differenzialgleichung für das Vektorpotential $ \\vec A $.\n"
   ]
  },
  {
   "cell_type": "markdown",
   "metadata": {
    "collapsed": false
   },
   "source": [
    "\n"
   ]
  },
  {
   "cell_type": "markdown",
   "metadata": {
    "collapsed": false
   },
   "source": [
    "#### Abschnitt 6: Lorentz Eichung\n",
    "\n",
    "Durch die Lorentz Eichung kann auch der finale Ausdruck für das Elektrische Feld $ \\vec E_A $\n",
    "\n",
    "$$\n",
    "        \\vec E_A =-\\nabla \\Phi_E - j\\omega \\vec A\n",
    "$$\n",
    "\n",
    "umgeschrieben werden.\n",
    "\n",
    "Dafür wird für $ \\Phi_E = -\\frac{1}{j\\omega \\epsilon \\mu} \\nabla \\vec A  $ eingesetzt:\n",
    "$$\n",
    "        \\vec E_A =-\\nabla (-\\frac{1}{j\\omega \\epsilon \\mu} \\nabla \\vec A) - j\\omega \\vec A\n",
    "$$\n",
    "Dieser Ausdruck lässt sich vereinfachen zu:\n",
    "$$\n",
    "       \\vec E_A = - \\frac{j}{\\omega \\epsilon \\mu} \\nabla (\\nabla \\vec A) - j \\omega \\vec A   \\quad \\text{(Gleichung 4)}\n",
    "$$"
   ]
  },
  {
   "cell_type": "markdown",
   "metadata": {
    "collapsed": false
   },
   "source": [
    "#### Abschnitt 7: Zusammenfassung\n",
    "\n",
    "Wenn das Vektorpotential $ \\vec A $ bekannt ist können also:\n",
    "\n",
    "1. das magnetische Feld $ \\vec H_A $ aus \\(Gleichung 1\\) $$\\vec B = \\mu \\vec H_A =  \\nabla \\times \\vec A$$\n",
    "2. und das elektrische Feld $ \\vec E_A $ aus \\(Gleichung 4\\) $$        \\vec E_A = - \\frac{j}{\\omega \\epsilon \\mu} \\nabla (\\nabla \\vec A) - j \\omega \\vec A $$\n",
    "\n",
    "bestimmt werden.\n"
   ]
  },
  {
   "cell_type": "markdown",
   "metadata": {
    "collapsed": false
   },
   "source": [
    "#### Abschnitt 8: Herleitung der Lösung für das inhomogene Vektorpotential $\\vec A$\n",
    "\n",
    "$$\n",
    "          \\nabla^2 \\vec A + k^2 \\vec A = - \\mu \\vec j\n",
    "$$\n",
    "\n",
    "Annahme: Als Stromquelle mit der Stromdichte $\\vec j(\\vec r)$ soll angenommen werden, dass diese infinitesimal ist und im Koordinatenursprung eines x,y,z - Koordinatensystems liegt (Ein Punkt im Kordinatenursprung). Diese Stromdichte der Quelle soll nur in z-Richtung als $\\vec j(\\vec r) = j_z$ angenommen werden. (Somit kann die vektorielle Stromdichte  $\\vec j(\\vec r)$ für folgende Betrachtungen auf eine skalare Größe reduziert werden, indem von $\\vec j$ nur die z-Komponente $j_z$ betrachtet wird)\n",
    "\n",
    "Mit Hilfe der Annahme, dass die Stromdichte nur in z\\-Richtung ausgerichtet ist, wird das Vektorpotential auf die z\\-Komponente reduziert. Somit kann die obige Gleichung reduziert werden zu:\n",
    "$$\n",
    "      \\nabla^2 A_z + k^2  A_z = - \\mu j_z\n",
    "$$\n",
    "Für betrachteten Punkte die nicht auf der infinitesimalen Quelle liegen, ist die Stromdichte $j_z  = 0$ somit wird die inhomogene DGL zu einer homogenen DGL:\n",
    "$$\n",
    "      \\nabla^2 A_z + k^2  A_z = 0\n",
    "$$\n",
    "Beobachtungen:\n",
    "\n",
    "- Stromquelle ist infinitesimal und im Koordinatenursprung positioniert, das entspricht einem Punkt im Ursprung\n",
    "- Für Punkte $ \\vec r$, die nicht dem Ursprung entsprechen ist für das gesuchte Potential nur der Abstand zum Ursprung von Bedeutung \\($ r = |\\vec r|$, in x,y,z\\-Koordinaten\\)\n",
    "- Die gesuchte Funktion muss für diesen Fall also vom Abstand zur Quelle abhängen \\(hier der Abstand zum Ursprung\\)\n",
    "- Betrachtet man diese Funktion in Kugelkoordinaten, die nur vom Abstand zum Ursprung abhängt, entspricht dies dem Radius $r$ \\(die Veränderlichen $\\theta$ und $\\phi$ sind somit irrelevant\\)\n",
    "- \\(Der Radius $r$ in Kugelkoordinaten entpricht der Länge des Ortsvektors $r = |\\vec r|$ in x,y,z-Koordinaten\n",
    "\n",
    "Fazit: transformiert man die DGL in Kugelkoordinaten, so hängt die Komponente $A_z$ des gesuchten Vektorpotentials vom Radius $r$ ab. Somit kann die DGL umgeschrieben werden zu:\n",
    "\n",
    "$$\n",
    "      \\nabla^2 A_z(r) + k^2  A_z(r) = 0\n",
    "$$\n",
    "Wenn jetzt der La Place Operator $ \\nabla ^2 $ aus der DGL auf das $A_z(r)$ im ersten Summand  angewendet wird, lässt sich die DGL ausschreiben zu: (La Place in Kugelkoordinaten: $\\nabla^2 f = \\frac{1}{r^2} \\frac{\\partial}{\\partial r} \\left(r^2 \\frac{\\partial f}{\\partial r}\\right) + \\frac{1}{r^2 \\sin \\theta} \\frac{\\partial}{\\partial \\theta} \\left(\\sin \\theta \\frac{\\partial f}{\\partial \\theta}\\right) + \\frac{1}{r^2 \\sin^2 \\theta} \\frac{\\partial^2 f}{\\partial \\phi^2}$) \n",
    "\n",
    "$$\n",
    "     \\frac{1}{r^2} \\frac{\\partial}{\\partial r} \\left(r^2 \\frac{\\partial A_z(r)}{\\partial r}\\right) + \\frac{1}{r^2 \\sin \\theta} \\frac{\\partial}{\\partial \\theta} \\left(\\sin \\theta \\frac{\\partial A_z(r)}{\\partial \\theta}\\right) + \\frac{1}{r^2 \\sin^2 \\theta} \\frac{\\partial^2 A_z(r)}{\\partial \\phi^2} + k^2  A_z(r) = 0\n",
    "$$\n",
    "Die Partiellen Ableitungen nach $\\theta$ und $\\phi$ Fallen raus, da $A_z(r)$ nur vom Radius $r$ abhängt.\n",
    "$$\n",
    "     \\frac{1}{r^2} \\frac{\\partial}{\\partial r} \\left(r^2 \\frac{\\partial A_z(r)}{\\partial r}\\right) + k^2  A_z(r) = 0\n",
    "$$\n",
    "Durch die Anwendung der Produktregel wird daraus:\n",
    "\n",
    "$$\n",
    "     \\frac{1}{r^2} \\left[\\frac{\\partial}{\\partial r} \\left(r^2\\right) \\frac{\\partial A_z(r)}{\\partial r} + r^2 \\frac{\\partial}{\\partial r}\\left(\\frac{\\partial A_z}{\\partial r}\\right)\\right] + k^2  A_z(r) = 0\n",
    "$$\n",
    "$$\n",
    "    \\frac{\\partial^2 A_z(r)}{\\partial^2 r^2} + \\frac{2}{r} \\frac{\\partial A_z(r)}{\\partial r} + k^2 A_z(r) = 0\n",
    "$$\n",
    "$$\n",
    "     A_z''(r) + \\frac{2}{r} A_z'(r) + k^2 A_z(r) = 0\n",
    "$$\n",
    "Das ist eine lineare homogene Differenzialgleichung 2. Ordnung mit variablen Koeffizienten und einer Veränderlichen.\n",
    "Laut der Literatur besitzt diese Differenzialgelichung 2 unabhängige Lösungen:\n",
    "$$\n",
    "     A_{z1}(r)  = C_1 \\frac{1}{r} e^{-jkr}\n",
    "$$\n",
    "und\n",
    "$$\n",
    "     A_{z2}(r)  = C_2 \\frac{1}{r} e^{+jkr}\n",
    "$$\n",
    "Die Ergebnisse beschreiben eine Welle in radialer Richtung. Wenn für die zeitliche Veränderung $e^{j\\omega t}$ angenommen wird, beschreibt die Lösung $A_{z1}$ eine Welle die sich vom Ursprung aus weg bewegt.\n",
    "($e^{j(\\omega t - kr)}$ bedeutet vom Ursprung weg. $e^{j(\\omega t + kr)}$ würde zum Ursprung hin bedeuten.)\n",
    "Daher wird als Lösung für $A_z$ die erste Lösung verwendet:\n",
    "$$\n",
    "       A_z(r) =  A_{z1}(r)  =  C_1 \\frac{1}{r} e^{-jkr}\n",
    "$$\n",
    "Für die statische Lösung ohne zeitliche Veränderung kann für $k$ und $\\omega$ Null eingesetzt werden:\n",
    "$$\n",
    "       A_z(r) =  A_{z1}(r)  =  C_1 \\frac{1}{r}\n",
    "$$\n",
    "Beobachtung: die statische und zeitlich veränderliche Lösung unterscheiden sich nur durch den Drehzeiger -> dh. man bekommt die zeitlich veränderliche Lösung durch eine Multiplikation der statischen Lösung mit dem Drehzeiger.\n",
    "\n",
    "Wird bei der Ausgangsgleichung der statische Fall betrachtet (k=0), wird\n",
    "$$\n",
    "      \\nabla^2 A_z + k^2  A_z = - \\mu j_z\n",
    "$$\n",
    "zu\n",
    "$$\n",
    "      \\nabla^2 A_z = - \\mu j_z\n",
    "$$\n",
    "Dieser Ausdruck ist äquivalent zur <bold>Poisson Gleichung</bold>, welche durch die Greensche Funktion gelöst werden kann. Um die Gleichung zu lösen muss also die rechte Seite mit der Greenschen Funktion $G(\\vec r) = - \\frac{1}{4\\pi r} $ gefaltet werden:\n",
    "$$\n",
    "    A_z = G * (- \\mu j_z)\n",
    "$$\n",
    "somit ist die z-Komponente des statischen Vektorpotentials $\\vec A$ in x,y,z-Koordinaten, wenn die Quelle im Ursprung sitzt\n",
    "$$\n",
    "           A_z(\\vec r)=  \\frac{\\mu}{4\\pi} \\iiint_V  j_z \\frac{1}{r} \\,d^3 r'\n",
    "$$\n",
    "Durch den Zusammenhang der statischen und zeitlich veränderlichen Lösung kann die statische mit dem Faktor $ e^{-jkr} $ multipliziert werden:\n",
    "$$\n",
    "        A_z(\\vec r)=  \\frac{\\mu}{4\\pi} \\iiint_V  j_z \\frac{e^{-jkr} }{r} \\,d^3 r'\n",
    "$$\n",
    "Um jetzt die Lösungen für die anderen Komponenten zu bekommen, kann man die Annahmen am Anfang des Abschnitts für die x- und y- Komponenten wiederholen. Somit ergeben sich für die x-y-Komponenten des Potentials die Ausgangsgleichungen:\n",
    "$$\n",
    "      \\nabla^2 A_x + k^2  A_x = - \\mu j_x\n",
    "$$\n",
    "$$\n",
    "      \\nabla^2 A_y + k^2  A_y = - \\mu j_y\n",
    "$$\n",
    "mit den Lösungen:\n",
    "$$\n",
    "        A_x(\\vec r)=  \\frac{\\mu}{4\\pi} \\iiint_V  j_x \\frac{e^{-jkr} }{r} \\,d^3 r'\n",
    "$$\n",
    "$$\n",
    "        A_y(\\vec r)=  \\frac{\\mu}{4\\pi} \\iiint_V  j_y \\frac{e^{-jkr} }{r} \\,d^3 r'\n",
    "$$\n",
    "Somit kann das Vektorpotential $\\vec A$ aus der Gleichung $\\nabla^2 \\vec A + k^2 \\vec A = - \\mu \\vec j$ bestimmt werden durch:\n",
    "$$\n",
    "        \\vec A(\\vec r)=  \\frac{\\mu}{4\\pi} \\iiint_V  \\vec j(\\vec r') \\frac{e^{-jk| \\vec r - \\vec r' |} }{| \\vec r - \\vec r' |} \\,d^3 r'\n",
    "$$\n",
    "Bemerkung: Um das statische Vektorpotential  $\\vec A$ zu erhalten kann für $ k = 0$ eingesetzt werden\n",
    "\n",
    "#####    Fazit: Wenn die Stromdichte $\\vec j(\\vec r)$ bekannt ist kann daraus das Vektorpotential $\\vec A$ bestimmt werden. Sobald das Vektorpotential bekannt ist, kann daraus das magnetische- und das elektrische Feld bestimmt werden. Diese Vorgehensweise soll verwendet werden, um aus einer gegebenen Stromdichteverteilung $\\vec j$ die Felder eines infinitesimalen Dipols zu bestimmen.\n"
   ]
  },
  {
   "cell_type": "markdown",
   "metadata": {
    "collapsed": false
   },
   "source": []
  },
  {
   "cell_type": "code",
   "execution_count": null,
   "metadata": {
    "collapsed": false
   },
   "outputs": [],
   "source": []
  },
  {
   "cell_type": "code",
   "execution_count": null,
   "metadata": {
    "collapsed": false
   },
   "outputs": [],
   "source": []
  }
 ],
 "metadata": {
  "kernelspec": {
   "argv": [
    "/usr/bin/python3",
    "-m",
    "ipykernel",
    "--HistoryManager.enabled=False",
    "--matplotlib=inline",
    "-c",
    "%config InlineBackend.figure_formats = set(['retina'])\nimport matplotlib; matplotlib.rcParams['figure.figsize'] = (12, 7)",
    "-f",
    "{connection_file}"
   ],
   "display_name": "Python 3 (system-wide)",
   "env": {},
   "language": "python",
   "metadata": {
    "cocalc": {
     "description": "Python 3 programming language",
     "priority": 100,
     "url": "https://www.python.org/"
    }
   },
   "name": "python3",
   "resource_dir": "/ext/jupyter/kernels/python3"
  }
 },
 "nbformat": 4,
 "nbformat_minor": 4
}
