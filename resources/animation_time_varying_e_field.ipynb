{
 "cells": [
  {
   "cell_type": "markdown",
   "metadata": {
    "collapsed": false
   },
   "source": [
   ]
  },
  {
   "cell_type": "markdown",
   "metadata": {
    "collapsed": false
   },
   "source": [
    "# Dieser Code dient nur zum erstellen der Animation als Video\n",
    "#### (Zeitabhängigkeit durch eine harmonische Schwingung $I(t) = I_0 e^{j 2\\pi f t}$ als Stromquelle)"
   ]
  },
  {
   "cell_type": "code",
   "execution_count": 0,
   "metadata": {
    "collapsed": false
   },
   "outputs": [
   ],
   "source": [
    "import sympy as sp\n",
    "import numpy as np\n",
    "from matplotlib import pyplot as plt\n",
    "import matplotlib.animation as animation\n",
    "\n",
    "x, y, z = sp.symbols('x y z')\n",
    "r, theta, phi = sp.symbols('r theta phi')\n",
    "t = sp.symbols('t')\n",
    "\n",
    "def transform_to_xyz(expr, x, y, z):\n",
    "    \"\"\"\n",
    "        Transformiert eine Funktion die von r, theta, phi abhängt auf eine Funkion die von x,y,z abhängt.\n",
    "    \"\"\"\n",
    "    r, theta, phi = sp.symbols('r theta phi')\n",
    "    expr = expr.subs([(r, sp.sqrt(x**2 + y**2 + z**2)),\n",
    "                      (theta, sp.acos(z / sp.sqrt(x**2 + y**2 + z**2))),\n",
    "                      (phi, sp.atan2(y, x))])\n",
    "    return expr\n",
    "\n",
    "def unitvector_theta(H_theta, theta, phi):\n",
    "    x = H_theta * sp.cos(theta) * sp.cos(phi)\n",
    "    y = H_theta * sp.cos(theta) * sp.sin(phi)\n",
    "    z = H_theta * -1*sp.sin(theta)\n",
    "    return x, y, z\n",
    "\n",
    "def H_phi(theta, r, t):\n",
    "    I_0 = 1\n",
    "    f = 1.8e9\n",
    "    c_0 = 3e8\n",
    "    lamd = c_0 / f\n",
    "    omega = sp.pi*2*f\n",
    "    k = 2*sp.pi/lamd\n",
    "    l = 0.0001\n",
    "    return 1j*((k*I_0*sp.sin(theta))/(4*sp.pi*r))*sp.exp(-1j*k*r) * sp.exp(1j*omega*t)\n",
    "\n",
    "eta = 1\n",
    "E_theta = H_phi(theta, r, t)*eta\n",
    "E_x,E_y,E_z =  unitvector_theta(E_theta, theta, phi)\n",
    "\n",
    "xx = transform_to_xyz(E_x, x, y, z)\n",
    "yy = transform_to_xyz(E_y, x, y, z)\n",
    "zz = transform_to_xyz(E_z, x, y, z)\n",
    "\n",
    "E_xx_func = sp.lambdify((x, y, z), xx, modules='numpy')\n",
    "E_yy_func = sp.lambdify((x, y, z), yy, modules='numpy')\n",
    "E_zz_func = sp.lambdify((x, y, z), zz, modules='numpy')\n",
    "\n",
    "E_xx_func = sp.lambdify((x, y, z, t), xx, modules='numpy')\n",
    "E_yy_func = sp.lambdify((x, y, z, t), yy, modules='numpy')\n",
    "E_zz_func = sp.lambdify((x, y, z, t ), zz, modules='numpy')\n",
    "\n",
    "def E(x,y,z,t):\n",
    "    return np.array([np.real(E_xx_func(x,y,z,t)),\n",
    "                     np.real(E_yy_func(x,y,z,t)),\n",
    "                     np.real(E_zz_func(x,y,z,t))])\n",
    "\n",
    "start = -1\n",
    "stop = 1\n",
    "samples = 2 ** 6\n",
    "\n",
    "x_range = np.linspace(start, stop, samples)\n",
    "y_range = np.linspace(start, stop, samples)\n",
    "z_range = np.linspace(start, stop, samples)\n",
    "t_range = np.linspace(0, 2*np.pi, samples)\n",
    "X, Y, Z, T = np.meshgrid(x_range, y_range, z_range, t_range, indexing='ij')\n",
    "E_field = np.vectorize(E, signature='(),(),(),()->(n)')(X, Y, Z, T)\n",
    "\n",
    "x = 0\n",
    "y = 1\n",
    "z = 2\n",
    "\n",
    "plt.imshow(np.abs(E_field[30,:,:,1,x]))\n",
    "plt.colorbar()"
   ]
  },
  {
   "cell_type": "markdown",
   "metadata": {
    "collapsed": false
   },
   "source": [
    "### Indizierung des 5 Dimensionalen Feldes E_field\n",
    "\n",
    "E Feld ist hat jetzt 5 Dimensionen, die Indizierung ist wie folgt definiert:\n",
    "\n",
    "- E_field[t,z,y,x,Komponente]"
   ]
  },
  {
   "cell_type": "code",
   "execution_count": 0,
   "metadata": {
    "collapsed": false
   },
   "outputs": [
   ],
   "source": [
    "E_field.shape"
   ]
  },
  {
   "cell_type": "markdown",
   "metadata": {
    "collapsed": false
   },
   "source": [
    "### Zum Video erstellen"
   ]
  },
  {
   "cell_type": "code",
   "execution_count": 0,
   "metadata": {
    "collapsed": false
   },
   "outputs": [
   ],
   "source": [
    "x = 0\n",
    "y = 1\n",
    "z = 2\n",
    "\n",
    "fig = plt.figure()\n",
    "\n",
    "def animate(i):\n",
    "    plt.clf()\n",
    "    plt.imshow(np.abs(E_field[i, :, :, 20, x]))\n",
    "    plt.title(r'X-Komponente von $\\vec E(\\vec r, t)$'+'\\n'+ r'mit der Stromquelle $I(t) = I_0 e^{1j\\omega t})$'+'\\n(Schnitt der zy-Ebene)')\n",
    "    plt.xlabel('y')\n",
    "    plt.ylabel('z')\n",
    "    plt.colorbar()\n",
    "\n",
    "ani = animation.FuncAnimation(fig, animate, frames=len(t_range), interval=200)\n",
    "ani.save('animation.mp4', writer='ffmpeg')"
   ]
  }
 ],
 "metadata": {
  "kernelspec": {
   "argv": [
    "/usr/bin/python3",
    "-m",
    "ipykernel",
    "--HistoryManager.enabled=False",
    "--matplotlib=inline",
    "-c",
    "%config InlineBackend.figure_formats = set(['retina'])\nimport matplotlib; matplotlib.rcParams['figure.figsize'] = (12, 7)",
    "-f",
    "{connection_file}"
   ],
   "display_name": "Python 3 (system-wide)",
   "env": {
   },
   "language": "python",
   "metadata": {
    "cocalc": {
     "description": "Python 3 programming language",
     "priority": 100,
     "url": "https://www.python.org/"
    }
   },
   "name": "python3",
   "resource_dir": "/ext/jupyter/kernels/python3"
  }
 },
 "nbformat": 4,
 "nbformat_minor": 4
}