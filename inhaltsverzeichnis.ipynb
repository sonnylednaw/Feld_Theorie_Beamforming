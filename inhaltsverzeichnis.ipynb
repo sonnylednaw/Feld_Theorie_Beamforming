{
 "cells": [
  {
   "cell_type": "markdown",
   "metadata": {
    "collapsed": false
   },
   "source": [
    "# Beamforming: Marius, Sonny (Team D)\n",
    "\n",
    "## Inhaltsverzeichnis\n",
    "\n",
    "- [Herleitung aus Maxwellgleichung](/resources/Herleitung.ipynb)\n",
    "- [infinitesimaler Dipol](resources/dipol_infinitesimal.ipynb)\n",
    "- [Finitesimaler Dipol](/resources/Finitesimaler_Dipol.ipynb)\n",
    "- [Beamforming (2 Antennen, N Antennen, Arrayfactor AF, Radiation Pattern)](/resources/Beamforming_Felder_Plots_RadiationPattern.ipynb)\n",
    "- [statisch Multipolentwicklung](/resources/Dipol_Herleitung_Statisch_Multipolentwicklung.ipynb)\n",
    "- [Code Animation Kugelwelle infinitesimaler Dipol](/resources/animation_time_varying_e_field.ipynb)\n",
    "- [Video Animation Kugelwelle Dipol](/resources/time_varying_dipole.mp4)\n",
    "- [Spielwiese (Anfänge, Testen, ...)](/resources/Marius_Sonny.ipynb)\n",
    "- [Beamforming: Herleitung, infintesimaler, finitesimaler Dipol in einer Datei (Inhalte sind ausgelagert in obigen Punkten zu finden))](/resources/Beamforming.ipynb)\n"
   ]
  }
 ],
 "metadata": {
  "kernelspec": {
   "argv": [
    "/usr/bin/python3",
    "-m",
    "ipykernel",
    "--HistoryManager.enabled=False",
    "--matplotlib=inline",
    "-c",
    "%config InlineBackend.figure_formats = set(['retina'])\nimport matplotlib; matplotlib.rcParams['figure.figsize'] = (12, 7)",
    "-f",
    "{connection_file}"
   ],
   "display_name": "Python 3 (system-wide)",
   "env": {},
   "language": "python",
   "metadata": {
    "cocalc": {
     "description": "Python 3 programming language",
     "priority": 100,
     "url": "https://www.python.org/"
    }
   },
   "name": "python3",
   "resource_dir": "/ext/jupyter/kernels/python3"
  },
  "language_info": {
   "codemirror_mode": {
    "name": "ipython",
    "version": 3
   },
   "file_extension": ".py",
   "mimetype": "text/x-python",
   "name": "python",
   "nbconvert_exporter": "python",
   "pygments_lexer": "ipython3",
   "version": "3.10.6"
  }
 },
 "nbformat": 4,
 "nbformat_minor": 4
}
